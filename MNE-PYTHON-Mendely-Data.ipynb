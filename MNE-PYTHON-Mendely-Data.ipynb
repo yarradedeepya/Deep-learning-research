{
 "cells": [
  {
   "cell_type": "code",
   "execution_count": 119,
   "id": "52accda6",
   "metadata": {},
   "outputs": [],
   "source": [
    "import mne\n",
    "import numpy as np \n",
    "import pandas as pd \n",
    "import os\n",
    "from tqdm import tqdm\n",
    "import glob\n",
    "from matplotlib import pyplot as plt"
   ]
  },
  {
   "cell_type": "code",
   "execution_count": 120,
   "id": "9eca58f2",
   "metadata": {},
   "outputs": [
    {
     "name": "stderr",
     "output_type": "stream",
     "text": [
      "100%|███████████████████████████████████████████████████████████████████████████████| 330/330 [00:00<00:00, 376.28it/s]\n"
     ]
    },
    {
     "data": {
      "text/html": [
       "<div>\n",
       "<style scoped>\n",
       "    .dataframe tbody tr th:only-of-type {\n",
       "        vertical-align: middle;\n",
       "    }\n",
       "\n",
       "    .dataframe tbody tr th {\n",
       "        vertical-align: top;\n",
       "    }\n",
       "\n",
       "    .dataframe thead th {\n",
       "        text-align: right;\n",
       "    }\n",
       "</style>\n",
       "<table border=\"1\" class=\"dataframe\">\n",
       "  <thead>\n",
       "    <tr style=\"text-align: right;\">\n",
       "      <th></th>\n",
       "      <th>0</th>\n",
       "      <th>1</th>\n",
       "      <th>2</th>\n",
       "      <th>3</th>\n",
       "      <th>4</th>\n",
       "      <th>5</th>\n",
       "      <th>6</th>\n",
       "      <th>7</th>\n",
       "      <th>8</th>\n",
       "      <th>9</th>\n",
       "      <th>10</th>\n",
       "      <th>11</th>\n",
       "      <th>12</th>\n",
       "    </tr>\n",
       "  </thead>\n",
       "  <tbody>\n",
       "    <tr>\n",
       "      <th>0</th>\n",
       "      <td>34</td>\n",
       "      <td>69</td>\n",
       "      <td>25137</td>\n",
       "      <td>10967</td>\n",
       "      <td>2604</td>\n",
       "      <td>5321</td>\n",
       "      <td>25031</td>\n",
       "      <td>37279</td>\n",
       "      <td>1725</td>\n",
       "      <td>2549</td>\n",
       "      <td>NaN</td>\n",
       "      <td>NaN</td>\n",
       "      <td>NaN</td>\n",
       "    </tr>\n",
       "    <tr>\n",
       "      <th>1</th>\n",
       "      <td>43</td>\n",
       "      <td>74</td>\n",
       "      <td>15167</td>\n",
       "      <td>34062</td>\n",
       "      <td>17446</td>\n",
       "      <td>16113</td>\n",
       "      <td>49284</td>\n",
       "      <td>52473</td>\n",
       "      <td>31642</td>\n",
       "      <td>7755</td>\n",
       "      <td>NaN</td>\n",
       "      <td>NaN</td>\n",
       "      <td>NaN</td>\n",
       "    </tr>\n",
       "    <tr>\n",
       "      <th>2</th>\n",
       "      <td>61</td>\n",
       "      <td>64</td>\n",
       "      <td>5726</td>\n",
       "      <td>4932</td>\n",
       "      <td>2482</td>\n",
       "      <td>6996</td>\n",
       "      <td>139747</td>\n",
       "      <td>18902</td>\n",
       "      <td>7644</td>\n",
       "      <td>3362</td>\n",
       "      <td>NaN</td>\n",
       "      <td>NaN</td>\n",
       "      <td>NaN</td>\n",
       "    </tr>\n",
       "  </tbody>\n",
       "</table>\n",
       "</div>"
      ],
      "text/plain": [
       "   0   1      2      3      4      5       6      7      8     9   10  11  12\n",
       "0  34  69  25137  10967   2604   5321   25031  37279   1725  2549 NaN NaN NaN\n",
       "1  43  74  15167  34062  17446  16113   49284  52473  31642  7755 NaN NaN NaN\n",
       "2  61  64   5726   4932   2482   6996  139747  18902   7644  3362 NaN NaN NaN"
      ]
     },
     "execution_count": 120,
     "metadata": {},
     "output_type": "execute_result"
    }
   ],
   "source": [
    "_dfs_list = []\n",
    "for csv_filename in tqdm(glob.glob('./data/*/*.csv')):\n",
    "    _dfs_list.append(pd.read_csv(csv_filename, header=None))\n",
    "df = pd.concat(_dfs_list)\n",
    "del(_dfs_list)\n",
    "#df = df.drop(['Unnamed: 0'], axis=1)\n",
    "df.head(3)"
   ]
  },
  {
   "cell_type": "code",
   "execution_count": 121,
   "id": "7094b545",
   "metadata": {},
   "outputs": [
    {
     "data": {
      "text/html": [
       "<div>\n",
       "<style scoped>\n",
       "    .dataframe tbody tr th:only-of-type {\n",
       "        vertical-align: middle;\n",
       "    }\n",
       "\n",
       "    .dataframe tbody tr th {\n",
       "        vertical-align: top;\n",
       "    }\n",
       "\n",
       "    .dataframe thead th {\n",
       "        text-align: right;\n",
       "    }\n",
       "</style>\n",
       "<table border=\"1\" class=\"dataframe\">\n",
       "  <thead>\n",
       "    <tr style=\"text-align: right;\">\n",
       "      <th></th>\n",
       "      <th>attention</th>\n",
       "      <th>meditation</th>\n",
       "      <th>LowAlpha</th>\n",
       "      <th>HighAlpha</th>\n",
       "      <th>LowBeta</th>\n",
       "      <th>HighBeta</th>\n",
       "      <th>Delta</th>\n",
       "      <th>Theta</th>\n",
       "      <th>LowGamma</th>\n",
       "      <th>MiddleGamma</th>\n",
       "    </tr>\n",
       "  </thead>\n",
       "  <tbody>\n",
       "    <tr>\n",
       "      <th>0</th>\n",
       "      <td>34</td>\n",
       "      <td>69</td>\n",
       "      <td>25137</td>\n",
       "      <td>10967</td>\n",
       "      <td>2604</td>\n",
       "      <td>5321</td>\n",
       "      <td>25031</td>\n",
       "      <td>37279</td>\n",
       "      <td>1725</td>\n",
       "      <td>2549</td>\n",
       "    </tr>\n",
       "    <tr>\n",
       "      <th>1</th>\n",
       "      <td>43</td>\n",
       "      <td>74</td>\n",
       "      <td>15167</td>\n",
       "      <td>34062</td>\n",
       "      <td>17446</td>\n",
       "      <td>16113</td>\n",
       "      <td>49284</td>\n",
       "      <td>52473</td>\n",
       "      <td>31642</td>\n",
       "      <td>7755</td>\n",
       "    </tr>\n",
       "    <tr>\n",
       "      <th>2</th>\n",
       "      <td>61</td>\n",
       "      <td>64</td>\n",
       "      <td>5726</td>\n",
       "      <td>4932</td>\n",
       "      <td>2482</td>\n",
       "      <td>6996</td>\n",
       "      <td>139747</td>\n",
       "      <td>18902</td>\n",
       "      <td>7644</td>\n",
       "      <td>3362</td>\n",
       "    </tr>\n",
       "    <tr>\n",
       "      <th>3</th>\n",
       "      <td>57</td>\n",
       "      <td>64</td>\n",
       "      <td>24948</td>\n",
       "      <td>14535</td>\n",
       "      <td>30571</td>\n",
       "      <td>15185</td>\n",
       "      <td>228001</td>\n",
       "      <td>124834</td>\n",
       "      <td>13174</td>\n",
       "      <td>7611</td>\n",
       "    </tr>\n",
       "    <tr>\n",
       "      <th>4</th>\n",
       "      <td>66</td>\n",
       "      <td>57</td>\n",
       "      <td>5626</td>\n",
       "      <td>6658</td>\n",
       "      <td>6843</td>\n",
       "      <td>4939</td>\n",
       "      <td>260240</td>\n",
       "      <td>23033</td>\n",
       "      <td>3564</td>\n",
       "      <td>3302</td>\n",
       "    </tr>\n",
       "    <tr>\n",
       "      <th>...</th>\n",
       "      <td>...</td>\n",
       "      <td>...</td>\n",
       "      <td>...</td>\n",
       "      <td>...</td>\n",
       "      <td>...</td>\n",
       "      <td>...</td>\n",
       "      <td>...</td>\n",
       "      <td>...</td>\n",
       "      <td>...</td>\n",
       "      <td>...</td>\n",
       "    </tr>\n",
       "    <tr>\n",
       "      <th>55</th>\n",
       "      <td>67</td>\n",
       "      <td>44</td>\n",
       "      <td>2011</td>\n",
       "      <td>885</td>\n",
       "      <td>4578</td>\n",
       "      <td>2170</td>\n",
       "      <td>82906</td>\n",
       "      <td>12088</td>\n",
       "      <td>1596</td>\n",
       "      <td>3445</td>\n",
       "    </tr>\n",
       "    <tr>\n",
       "      <th>56</th>\n",
       "      <td>51</td>\n",
       "      <td>27</td>\n",
       "      <td>8654</td>\n",
       "      <td>823</td>\n",
       "      <td>5560</td>\n",
       "      <td>2820</td>\n",
       "      <td>201373</td>\n",
       "      <td>68481</td>\n",
       "      <td>782</td>\n",
       "      <td>1166</td>\n",
       "    </tr>\n",
       "    <tr>\n",
       "      <th>57</th>\n",
       "      <td>24</td>\n",
       "      <td>14</td>\n",
       "      <td>2470</td>\n",
       "      <td>1004</td>\n",
       "      <td>1046</td>\n",
       "      <td>763</td>\n",
       "      <td>64186</td>\n",
       "      <td>27932</td>\n",
       "      <td>337</td>\n",
       "      <td>494</td>\n",
       "    </tr>\n",
       "    <tr>\n",
       "      <th>58</th>\n",
       "      <td>21</td>\n",
       "      <td>10</td>\n",
       "      <td>5916</td>\n",
       "      <td>10716</td>\n",
       "      <td>8534</td>\n",
       "      <td>9071</td>\n",
       "      <td>184187</td>\n",
       "      <td>91203</td>\n",
       "      <td>4539</td>\n",
       "      <td>9489</td>\n",
       "    </tr>\n",
       "    <tr>\n",
       "      <th>59</th>\n",
       "      <td>17</td>\n",
       "      <td>20</td>\n",
       "      <td>9356</td>\n",
       "      <td>32724</td>\n",
       "      <td>11566</td>\n",
       "      <td>10740</td>\n",
       "      <td>351909</td>\n",
       "      <td>74949</td>\n",
       "      <td>7140</td>\n",
       "      <td>17394</td>\n",
       "    </tr>\n",
       "  </tbody>\n",
       "</table>\n",
       "<p>21649 rows × 10 columns</p>\n",
       "</div>"
      ],
      "text/plain": [
       "    attention meditation  LowAlpha  HighAlpha  LowBeta  HighBeta   Delta  \\\n",
       "0          34         69     25137      10967     2604      5321   25031   \n",
       "1          43         74     15167      34062    17446     16113   49284   \n",
       "2          61         64      5726       4932     2482      6996  139747   \n",
       "3          57         64     24948      14535    30571     15185  228001   \n",
       "4          66         57      5626       6658     6843      4939  260240   \n",
       "..        ...        ...       ...        ...      ...       ...     ...   \n",
       "55         67         44      2011        885     4578      2170   82906   \n",
       "56         51         27      8654        823     5560      2820  201373   \n",
       "57         24         14      2470       1004     1046       763   64186   \n",
       "58         21         10      5916      10716     8534      9071  184187   \n",
       "59         17         20      9356      32724    11566     10740  351909   \n",
       "\n",
       "     Theta  LowGamma  MiddleGamma  \n",
       "0    37279      1725         2549  \n",
       "1    52473     31642         7755  \n",
       "2    18902      7644         3362  \n",
       "3   124834     13174         7611  \n",
       "4    23033      3564         3302  \n",
       "..     ...       ...          ...  \n",
       "55   12088      1596         3445  \n",
       "56   68481       782         1166  \n",
       "57   27932       337          494  \n",
       "58   91203      4539         9489  \n",
       "59   74949      7140        17394  \n",
       "\n",
       "[21649 rows x 10 columns]"
      ]
     },
     "execution_count": 121,
     "metadata": {},
     "output_type": "execute_result"
    }
   ],
   "source": [
    "df = df.iloc[:, :10]\n",
    "#print(df)\n",
    "df.columns = ['attention' , 'meditation' ,'LowAlpha','HighAlpha','LowBeta','HighBeta','Delta','Theta','LowGamma','MiddleGamma']\n",
    "df"
   ]
  },
  {
   "cell_type": "code",
   "execution_count": 122,
   "id": "bc076d82",
   "metadata": {},
   "outputs": [
    {
     "name": "stdout",
     "output_type": "stream",
     "text": [
      "<class 'pandas.core.frame.DataFrame'>\n",
      "Int64Index: 21649 entries, 0 to 59\n",
      "Data columns (total 10 columns):\n",
      " #   Column       Non-Null Count  Dtype \n",
      "---  ------       --------------  ----- \n",
      " 0   attention    21649 non-null  int64 \n",
      " 1   meditation   21649 non-null  object\n",
      " 2   LowAlpha     21649 non-null  int64 \n",
      " 3   HighAlpha    21649 non-null  int64 \n",
      " 4   LowBeta      21649 non-null  int64 \n",
      " 5   HighBeta     21649 non-null  int64 \n",
      " 6   Delta        21649 non-null  int64 \n",
      " 7   Theta        21649 non-null  int64 \n",
      " 8   LowGamma     21649 non-null  int64 \n",
      " 9   MiddleGamma  21649 non-null  int64 \n",
      "dtypes: int64(9), object(1)\n",
      "memory usage: 1.8+ MB\n"
     ]
    }
   ],
   "source": [
    "df.info()\n"
   ]
  },
  {
   "cell_type": "code",
   "execution_count": 123,
   "id": "4a5eb926",
   "metadata": {},
   "outputs": [
    {
     "name": "stdout",
     "output_type": "stream",
     "text": [
      "Creating RawArray with float64 data, n_channels=10, n_times=20881\n",
      "    Range : 0 ... 20880 =      0.000 ...    81.562 secs\n",
      "Ready.\n"
     ]
    }
   ],
   "source": [
    "import pandas as pd\n",
    "import numpy as np\n",
    "import mne\n",
    "\n",
    "# Convert all columns to numeric data type\n",
    "df = df.apply(pd.to_numeric, errors='coerce')\n",
    "\n",
    "# Remove any rows with NaN values\n",
    "df = df.dropna()\n",
    "#data = df.values.T\n",
    "\n",
    "# Create an MNE Raw object\n",
    "ch_names = ['attention', 'meditation', 'LowAlpha', 'HighAlpha', 'LowBeta', 'HighBeta', 'Delta', 'Theta', 'LowGamma', 'MiddleGamma']\n",
    "ch_types = ['eeg']*10\n",
    "sfreq = 256  # sampling frequency\n",
    "info = mne.create_info(ch_names=ch_names, sfreq=sfreq, ch_types=ch_types)\n",
    "\n",
    "# add missing channels to info\n",
    "missing_ch_names = ['attention', 'meditation', 'LowAlpha', 'HighAlpha', 'LowBeta', 'HighBeta', 'Delta', 'Theta', 'LowGamma', 'MiddleGamma']\n",
    "for ch_name in missing_ch_names:\n",
    "    if ch_name not in info['ch_names']:\n",
    "        ch_info = mne.create_info(ch_name, sfreq, ch_types='misc')\n",
    "        info.add_channels([ch_info])\n",
    "\n",
    "raw = mne.io.RawArray(df.values.T, info)\n",
    "\n",
    "\n"
   ]
  },
  {
   "cell_type": "code",
   "execution_count": 124,
   "id": "4eec93bc",
   "metadata": {},
   "outputs": [
    {
     "data": {
      "text/plain": [
       "array([[3.4000e+01, 4.3000e+01, 6.1000e+01, ..., 2.4000e+01, 2.1000e+01,\n",
       "        1.7000e+01],\n",
       "       [6.9000e+01, 7.4000e+01, 6.4000e+01, ..., 1.4000e+01, 1.0000e+01,\n",
       "        2.0000e+01],\n",
       "       [2.5137e+04, 1.5167e+04, 5.7260e+03, ..., 2.4700e+03, 5.9160e+03,\n",
       "        9.3560e+03],\n",
       "       ...,\n",
       "       [3.7279e+04, 5.2473e+04, 1.8902e+04, ..., 2.7932e+04, 9.1203e+04,\n",
       "        7.4949e+04],\n",
       "       [1.7250e+03, 3.1642e+04, 7.6440e+03, ..., 3.3700e+02, 4.5390e+03,\n",
       "        7.1400e+03],\n",
       "       [2.5490e+03, 7.7550e+03, 3.3620e+03, ..., 4.9400e+02, 9.4890e+03,\n",
       "        1.7394e+04]])"
      ]
     },
     "execution_count": 124,
     "metadata": {},
     "output_type": "execute_result"
    }
   ],
   "source": [
    "data"
   ]
  },
  {
   "cell_type": "code",
   "execution_count": 125,
   "id": "61267120",
   "metadata": {},
   "outputs": [
    {
     "name": "stdout",
     "output_type": "stream",
     "text": [
      "Filtering raw data in 1 contiguous segment\n",
      "Setting up band-pass filter from 1 - 50 Hz\n",
      "\n",
      "FIR filter parameters\n",
      "---------------------\n",
      "Designing a one-pass, zero-phase, non-causal bandpass filter:\n",
      "- Windowed time-domain design (firwin) method\n",
      "- Hamming window with 0.0194 passband ripple and 53 dB stopband attenuation\n",
      "- Lower passband edge: 1.00\n",
      "- Lower transition bandwidth: 1.00 Hz (-6 dB cutoff frequency: 0.50 Hz)\n",
      "- Upper passband edge: 50.00 Hz\n",
      "- Upper transition bandwidth: 12.50 Hz (-6 dB cutoff frequency: 56.25 Hz)\n",
      "- Filter length: 845 samples (3.301 sec)\n",
      "\n",
      "Setting up band-stop filter from 59 - 61 Hz\n",
      "\n",
      "FIR filter parameters\n",
      "---------------------\n",
      "Designing a one-pass, zero-phase, non-causal bandstop filter:\n",
      "- Windowed time-domain design (firwin) method\n",
      "- Hamming window with 0.0194 passband ripple and 53 dB stopband attenuation\n",
      "- Lower passband edge: 59.35\n",
      "- Lower transition bandwidth: 0.50 Hz (-6 dB cutoff frequency: 59.10 Hz)\n",
      "- Upper passband edge: 60.65 Hz\n",
      "- Upper transition bandwidth: 0.50 Hz (-6 dB cutoff frequency: 60.90 Hz)\n",
      "- Filter length: 1691 samples (6.605 sec)\n",
      "\n",
      "Not setting metadata\n",
      "81 matching events found\n",
      "No baseline correction applied\n",
      "0 projection items activated\n",
      "Using data from preloaded Raw for 81 events and 257 original time points ...\n"
     ]
    },
    {
     "name": "stderr",
     "output_type": "stream",
     "text": [
      "[Parallel(n_jobs=1)]: Using backend SequentialBackend with 1 concurrent workers.\n",
      "[Parallel(n_jobs=1)]: Done   1 out of   1 | elapsed:    0.0s remaining:    0.0s\n",
      "[Parallel(n_jobs=1)]: Done   2 out of   2 | elapsed:    0.0s remaining:    0.0s\n",
      "[Parallel(n_jobs=1)]: Done   3 out of   3 | elapsed:    0.0s remaining:    0.0s\n",
      "[Parallel(n_jobs=1)]: Done   4 out of   4 | elapsed:    0.0s remaining:    0.0s\n",
      "[Parallel(n_jobs=1)]: Done  10 out of  10 | elapsed:    0.0s finished\n",
      "[Parallel(n_jobs=1)]: Using backend SequentialBackend with 1 concurrent workers.\n",
      "[Parallel(n_jobs=1)]: Done   1 out of   1 | elapsed:    0.0s remaining:    0.0s\n",
      "[Parallel(n_jobs=1)]: Done   2 out of   2 | elapsed:    0.0s remaining:    0.0s\n",
      "[Parallel(n_jobs=1)]: Done   3 out of   3 | elapsed:    0.0s remaining:    0.0s\n",
      "[Parallel(n_jobs=1)]: Done   4 out of   4 | elapsed:    0.0s remaining:    0.0s\n",
      "[Parallel(n_jobs=1)]: Done  10 out of  10 | elapsed:    0.0s finished\n"
     ]
    },
    {
     "name": "stdout",
     "output_type": "stream",
     "text": [
      "0 bad epochs dropped\n"
     ]
    }
   ],
   "source": [
    "import mne\n",
    "import numpy as np\n",
    "\n",
    "\n",
    "# Preprocess the data\n",
    "raw.filter(1, 50)  # filter out unwanted frequency bands\n",
    "raw.notch_filter(60)  # remove powerline noise\n",
    "\n",
    "# Create events array\n",
    "event_id = {'condition1': 1, 'condition2': 2}  # specify the event types and IDs\n",
    "events = mne.make_fixed_length_events(raw, id=1, start=0, stop=None, duration=1.0)\n",
    "\n",
    "epochs = mne.Epochs(raw, events, tmin=0, tmax=1, baseline=None, detrend=1, reject=None, preload=True)"
   ]
  },
  {
   "cell_type": "code",
   "execution_count": 126,
   "id": "eeb207f3",
   "metadata": {},
   "outputs": [
    {
     "data": {
      "text/plain": [
       "[<matplotlib.lines.Line2D at 0x165c8a36670>]"
      ]
     },
     "execution_count": 126,
     "metadata": {},
     "output_type": "execute_result"
    },
    {
     "data": {
      "image/png": "[encoded data removed]",
      "text/plain": [
       "<Figure size 640x480 with 1 Axes>"
      ]
     },
     "metadata": {},
     "output_type": "display_data"
    }
   ],
   "source": [
    "plt.plot(raw.copy().get_data()[9])\n",
    "plt.plot(raw.copy().filter(8,30, verbose=False).get_data()[9])"
   ]
  },
  {
   "cell_type": "code",
   "execution_count": 127,
   "id": "74b1b774",
   "metadata": {
    "scrolled": false
   },
   "outputs": [
    {
     "name": "stdout",
     "output_type": "stream",
     "text": [
      "Filtering raw data in 1 contiguous segment\n",
      "Setting up high-pass filter at 1 Hz\n",
      "\n",
      "FIR filter parameters\n",
      "---------------------\n",
      "Designing a one-pass, zero-phase, non-causal highpass filter:\n",
      "- Windowed time-domain design (firwin) method\n",
      "- Hamming window with 0.0194 passband ripple and 53 dB stopband attenuation\n",
      "- Lower passband edge: 1.00\n",
      "- Lower transition bandwidth: 1.00 Hz (-6 dB cutoff frequency: 0.50 Hz)\n",
      "- Filter length: 845 samples (3.301 sec)\n",
      "\n",
      "Fitting ICA to data using 10 channels (please be patient, this may take a while)\n",
      "Selecting by number: 5 components\n",
      "Fitting ICA took 0.1s.\n"
     ]
    },
    {
     "name": "stderr",
     "output_type": "stream",
     "text": [
      "[Parallel(n_jobs=1)]: Using backend SequentialBackend with 1 concurrent workers.\n",
      "[Parallel(n_jobs=1)]: Done   1 out of   1 | elapsed:    0.0s remaining:    0.0s\n",
      "[Parallel(n_jobs=1)]: Done   2 out of   2 | elapsed:    0.0s remaining:    0.0s\n",
      "[Parallel(n_jobs=1)]: Done   3 out of   3 | elapsed:    0.0s remaining:    0.0s\n",
      "[Parallel(n_jobs=1)]: Done   4 out of   4 | elapsed:    0.0s remaining:    0.0s\n",
      "[Parallel(n_jobs=1)]: Done  10 out of  10 | elapsed:    0.0s finished\n"
     ]
    },
    {
     "data": {
      "text/html": [
       "<table class=\"table table-hover table-striped table-sm table-responsive small\">\n",
       "    <tr>\n",
       "        <th>Method</th>\n",
       "        <td>fastica</td>\n",
       "    </tr>\n",
       "    <tr>\n",
       "        <th>Fit</th>\n",
       "        <td>16 iterations on raw data (20881 samples)</td>\n",
       "    </tr>\n",
       "    \n",
       "    <tr>\n",
       "        <th>ICA components</th>\n",
       "        <td>5</td>\n",
       "    </tr>\n",
       "    <tr>\n",
       "        <th>Available PCA components</th>\n",
       "        <td>10</td>\n",
       "    </tr>\n",
       "    <tr>\n",
       "        <th>Channel types</th>\n",
       "        <td>eeg</td>\n",
       "    </tr>\n",
       "    <tr>\n",
       "        <th>ICA components marked for exclusion</th>\n",
       "        <td>&mdash;</td>\n",
       "    </tr>\n",
       "    \n",
       "</table>"
      ],
      "text/plain": [
       "<ICA | raw data decomposition, method: fastica (fit in 16 iterations on 20881 samples), 5 ICA components (10 PCA components available), channel types: eeg, no sources marked for exclusion>"
      ]
     },
     "execution_count": 127,
     "metadata": {},
     "output_type": "execute_result"
    }
   ],
   "source": [
    "ica = mne.preprocessing.ICA(random_state=42, n_components=5)\n",
    "filtered_raw = raw.copy().filter(1, None, verbose=True)\n",
    "ica.fit(raw, verbose=True)\n",
    "#ica.plot_components()"
   ]
  },
  {
   "cell_type": "code",
   "execution_count": 129,
   "id": "363ebd5a",
   "metadata": {},
   "outputs": [
    {
     "name": "stdout",
     "output_type": "stream",
     "text": [
      "Component 0 has a large amplitude peak, possibly an eye blink\n",
      "Component 1 has a large amplitude peak, possibly an eye blink\n",
      "Component 2 has a large amplitude peak, possibly an eye blink\n",
      "3\n",
      "Applying ICA to Raw instance\n",
      "    Transforming to ICA space (10 components)\n",
      "    Zeroing out 3 ICA components\n",
      "    Projecting back using 10 PCA components\n",
      "no of eye blink components 3\n"
     ]
    },
    {
     "name": "stderr",
     "output_type": "stream",
     "text": [
      "C:\\Users\\Dedu\\anaconda3\\lib\\site-packages\\sklearn\\decomposition\\_fastica.py:116: ConvergenceWarning: FastICA did not converge. Consider increasing tolerance or the maximum number of iterations.\n",
      "  warnings.warn(\n",
      "C:\\Users\\Dedu\\AppData\\Local\\Temp\\ipykernel_21576\\605241236.py:2: RuntimeWarning: Using n_components=10 (resulting in n_components_=10) may lead to an unstable mixing matrix estimation because the ratio between the largest (8.5) and smallest (1.6e-08) variances is too large (> 1e6); consider setting n_components=0.999999 or an integer <= 8\n",
      "  ica.fit(raw.copy().filter(1,None, verbose=False), verbose=False)\n"
     ]
    }
   ],
   "source": [
    "ica = mne.preprocessing.ICA(random_state=42, n_components=10)\n",
    "ica.fit(raw.copy().filter(1,None, verbose=False), verbose=False)\n",
    "#ica.plot_components()\n",
    "\n",
    "# Manually detect eye blinks\n",
    "blink_indices = []\n",
    "for i in range(ica.n_components_):\n",
    "    component = ica.get_components()[:, i]\n",
    "    amplitude = max(abs(component))\n",
    "    #print(amplitude)\n",
    "    if amplitude > 0.5:  # threshold for blink detection\n",
    "        blink_indices.append(i)\n",
    "        print('Component {} has a large amplitude peak, possibly an eye blink'.format(i))\n",
    "\n",
    "# Plot the blink components\n",
    "print(len(blink_indices))\n",
    "#ica.plot_components(blink_indices)\n",
    "\n",
    "\n",
    "# Plot the raw data with the blink component removed\n",
    "ica.exclude = blink_indices\n",
    "raw_ica = raw.copy()\n",
    "ica.apply(raw_ica)\n",
    "#ica.plot_sources(raw, blink_indices)\n",
    "#ica.plot_overlay(raw)\n",
    "print(\"no of eye blink components\",len(blink_indices))"
   ]
  },
  {
   "cell_type": "code",
   "execution_count": null,
   "id": "0055dace",
   "metadata": {},
   "outputs": [],
   "source": []
  }
 ],
 "metadata": {
  "kernelspec": {
   "display_name": "Python 3 (ipykernel)",
   "language": "python",
   "name": "python3"
  },
  "language_info": {
   "codemirror_mode": {
    "name": "ipython",
    "version": 3
   },
   "file_extension": ".py",
   "mimetype": "text/x-python",
   "name": "python",
   "nbconvert_exporter": "python",
   "pygments_lexer": "ipython3",
   "version": "3.9.13"
  }
 },
 "nbformat": 4,
 "nbformat_minor": 5
}
