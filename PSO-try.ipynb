{
 "cells": [
  {
   "cell_type": "code",
   "execution_count": 1,
   "id": "45505c32",
   "metadata": {},
   "outputs": [],
   "source": [
    "import numpy as np\n",
    "\n",
    "# define the objective function to be optimized\n",
    "def objective_function(x):\n",
    "    return x[0]**2 + x[1]**2\n",
    "\n",
    "# define the PSO function\n",
    "def pso(objective_function, bounds, n_particles, max_iterations):\n",
    "    # initialize the particles and their velocities\n",
    "    particles = np.random.uniform(bounds[0], bounds[1], (n_particles, len(bounds)))\n",
    "    velocities = np.zeros_like(particles)\n",
    "    \n",
    "    # initialize the personal best positions and fitnesses\n",
    "    personal_best_positions = particles.copy()\n",
    "    personal_best_fitnesses = np.zeros(n_particles)\n",
    "    \n",
    "    for i in range(n_particles):\n",
    "        personal_best_fitnesses[i] = objective_function(personal_best_positions[i])\n",
    "    \n",
    "    # initialize the global best position and fitness\n",
    "    global_best_position = personal_best_positions[personal_best_fitnesses.argmin()].copy()\n",
    "    global_best_fitness = personal_best_fitnesses.min()\n",
    "    \n",
    "    # run the PSO algorithm for the specified number of iterations\n",
    "    for iteration in range(max_iterations):\n",
    "        # update the particle velocities\n",
    "        inertia_weight = 0.5\n",
    "        cognitive_weight = 1\n",
    "        social_weight = 1\n",
    "        r1 = np.random.uniform(0, 1, (n_particles, len(bounds)))\n",
    "        r2 = np.random.uniform(0, 1, (n_particles, len(bounds)))\n",
    "        velocities = (inertia_weight * velocities +\n",
    "                      cognitive_weight * r1 * (personal_best_positions - particles) +\n",
    "                      social_weight * r2 * (global_best_position - particles))\n",
    "        \n",
    "        # update the particle positions\n",
    "        particles += velocities\n",
    "        \n",
    "        # apply bounds to the particle positions\n",
    "        particles = np.clip(particles, bounds[0], bounds[1])\n",
    "        \n",
    "        # update the personal best positions and fitnesses\n",
    "        for i in range(n_particles):\n",
    "            fitness = objective_function(particles[i])\n",
    "            if fitness < personal_best_fitnesses[i]:\n",
    "                personal_best_positions[i] = particles[i].copy()\n",
    "                personal_best_fitnesses[i] = fitness\n",
    "        \n",
    "        # update the global best position and fitness\n",
    "        if personal_best_fitnesses.min() < global_best_fitness:\n",
    "            global_best_position = personal_best_positions[personal_best_fitnesses.argmin()].copy()\n",
    "            global_best_fitness = personal_best_fitnesses.min()\n",
    "            \n",
    "    return global_best_position, global_best_fitness\n"
   ]
  },
  {
   "cell_type": "code",
   "execution_count": 2,
   "id": "61df342c",
   "metadata": {},
   "outputs": [
    {
     "name": "stdout",
     "output_type": "stream",
     "text": [
      "Global best position: [-5.  5.]\n",
      "Global best fitness: 50.0\n"
     ]
    }
   ],
   "source": [
    "# define the bounds of the search space\n",
    "bounds = [(-5, 5), (-5, 5)]\n",
    "\n",
    "# run the PSO algorithm to optimize the objective function\n",
    "n_particles = 100\n",
    "max_iterations = 100\n",
    "global_best_position, global_best_fitness = pso(objective_function, bounds, n_particles, max_iterations)\n",
    "\n",
    "# print the results\n",
    "print(f\"Global best position: {global_best_position}\")\n",
    "print(f\"Global best fitness: {global_best_fitness}\")\n"
   ]
  },
  {
   "cell_type": "code",
   "execution_count": null,
   "id": "87726fad",
   "metadata": {},
   "outputs": [],
   "source": []
  }
 ],
 "metadata": {
  "kernelspec": {
   "display_name": "Python 3 (ipykernel)",
   "language": "python",
   "name": "python3"
  },
  "language_info": {
   "codemirror_mode": {
    "name": "ipython",
    "version": 3
   },
   "file_extension": ".py",
   "mimetype": "text/x-python",
   "name": "python",
   "nbconvert_exporter": "python",
   "pygments_lexer": "ipython3",
   "version": "3.9.13"
  }
 },
 "nbformat": 4,
 "nbformat_minor": 5
}
