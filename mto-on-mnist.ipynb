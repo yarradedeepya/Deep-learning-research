{
 "cells": [
  {
   "cell_type": "code",
   "execution_count": null,
   "id": "cbb65722",
   "metadata": {},
   "outputs": [
    {
     "name": "stdout",
     "output_type": "stream",
     "text": [
      "calling mto\n"
     ]
    }
   ],
   "source": [
    "import numpy as np\n",
    "from keras.datasets import mnist\n",
    "from keras.utils import to_categorical\n",
    "from keras.models import Sequential\n",
    "from keras.layers import Dense, Dropout\n",
    "from keras.optimizers import Adam\n",
    "from sklearn.model_selection import train_test_split\n",
    "\n",
    "\n",
    "from mto import MTO\n",
    "\n",
    "\n",
    "\n",
    "# Load the MNIST dataset\n",
    "(x_train, y_train), (x_test, y_test) = mnist.load_data()\n",
    "\n",
    "# Preprocess the data\n",
    "x_train = x_train.reshape(-1, 784).astype('float32') / 255.0\n",
    "x_test = x_test.reshape(-1, 784).astype('float32') / 255.0\n",
    "y_train = to_categorical(y_train, num_classes=10)\n",
    "y_test = to_categorical(y_test, num_classes=10)\n",
    "\n",
    "# Define the model architecture\n",
    "def create_model(n_layers, n_units, dropout_rate):\n",
    "    model = Sequential()\n",
    "    for i in range(n_layers):\n",
    "        if i == 0:\n",
    "            model.add(Dense(n_units, activation='relu', input_shape=(784,)))\n",
    "        else:\n",
    "            model.add(Dense(n_units, activation='relu'))\n",
    "        model.add(Dropout(dropout_rate))\n",
    "    model.add(Dense(10, activation='softmax'))\n",
    "    model.compile(optimizer=Adam(), loss='categorical_crossentropy', metrics=['accuracy'])\n",
    "    return model\n",
    "\n",
    "# Define the objective function to be optimized\n",
    "def objective_function(x):\n",
    "    n_layers = int(np.round(x[0]))\n",
    "    n_units = int(np.round(x[1]))\n",
    "    dropout_rate = x[2]\n",
    "    model = create_model(n_layers, n_units, dropout_rate)\n",
    "    model.fit(x_train, y_train, batch_size=128, epochs=10, verbose=0)\n",
    "    loss, accuracy = model.evaluate(x_test, y_test, verbose=0)\n",
    "    return -accuracy  # We maximize accuracy, so we need to minimize the negative of accuracy\n",
    "\n",
    "# Set the bounds for the variables to be optimized\n",
    "bounds = [(1, 5), (32, 256), (0, 0.5)]\n",
    "\n",
    "# Create an instance of the MTO algorithm\n",
    "mto = MTO(objective_function, bounds, population_size=50, max_iter=70)\n",
    "\n",
    "print(\"calling mto\")\n",
    "# Run the MTO algorithm\n",
    "best_solution = mto.run()\n",
    "\n",
    "\n",
    "# Print the best solution found\n",
    "print('Best solution found: {}'.format(best_solution))\n"
   ]
  },
  {
   "cell_type": "raw",
   "id": "f5bc6ee6",
   "metadata": {},
   "source": []
  },
  {
   "cell_type": "code",
   "execution_count": null,
   "id": "ac08eaa2",
   "metadata": {},
   "outputs": [],
   "source": []
  }
 ],
 "metadata": {
  "kernelspec": {
   "display_name": "Python 3 (ipykernel)",
   "language": "python",
   "name": "python3"
  },
  "language_info": {
   "codemirror_mode": {
    "name": "ipython",
    "version": 3
   },
   "file_extension": ".py",
   "mimetype": "text/x-python",
   "name": "python",
   "nbconvert_exporter": "python",
   "pygments_lexer": "ipython3",
   "version": "3.9.13"
  }
 },
 "nbformat": 4,
 "nbformat_minor": 5
}
